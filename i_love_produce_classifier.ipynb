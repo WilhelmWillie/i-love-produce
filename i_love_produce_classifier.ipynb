{
  "nbformat": 4,
  "nbformat_minor": 0,
  "metadata": {
    "colab": {
      "name": "i_love_produce_classifier.ipynb",
      "provenance": [],
      "authorship_tag": "ABX9TyPhFNuRm+2coXJgzGq6NmN3",
      "include_colab_link": true
    },
    "kernelspec": {
      "name": "python3",
      "display_name": "Python 3"
    },
    "accelerator": "GPU"
  },
  "cells": [
    {
      "cell_type": "markdown",
      "metadata": {
        "id": "view-in-github",
        "colab_type": "text"
      },
      "source": [
        "<a href=\"https://colab.research.google.com/github/WilhelmWillie/i-love-produce/blob/master/i_love_produce_classifier.ipynb\" target=\"_parent\"><img src=\"https://colab.research.google.com/assets/colab-badge.svg\" alt=\"Open In Colab\"/></a>"
      ]
    },
    {
      "cell_type": "code",
      "metadata": {
        "id": "7C4NW4Ry51kQ",
        "colab_type": "code",
        "colab": {}
      },
      "source": [
        "# Importing our good old TensorFlow libraries\n",
        "\n",
        "import tensorflow as tf\n",
        "\n",
        "import numpy as np\n",
        "import matplotlib.pyplot as plt\n",
        "\n",
        "from tensorflow.keras import layers"
      ],
      "execution_count": 0,
      "outputs": []
    },
    {
      "cell_type": "code",
      "metadata": {
        "id": "JKmkjJaq6gZK",
        "colab_type": "code",
        "outputId": "2cb01ae4-3c62-4330-be9b-2eca0e94c77a",
        "colab": {
          "base_uri": "https://localhost:8080/",
          "height": 34
        }
      },
      "source": [
        "# Import os so we can do path stuff\n",
        "import os \n",
        "\n",
        "base_dir = os.path.join(\"./training_data\")\n",
        "\n",
        "# Base directories for each carrot\n",
        "carrot_dir = os.path.join(base_dir, \"carrot\")\n",
        "onion_dir = os.path.join(base_dir, \"onion\")\n",
        "tomato_dir = os.path.join(base_dir, \"tomato\")\n",
        "\n",
        "# Specific directories  for training \n",
        "carrot_dir_train = os.path.join(carrot_dir, \"train\") \n",
        "carrot_dir_val = os.path.join(carrot_dir, \"val\")\n",
        "onion_dir_train = os.path.join(onion_dir, \"train\")\n",
        "onion_dir_val = os.path.join(onion_dir, \"val\")\n",
        "tomato_dir_train = os.path.join(tomato_dir, \"train\")\n",
        "tomato_dir_val = os.path.join(tomato_dir, \"val\")\n",
        "\n",
        "print(base_dir, carrot_dir, onion_dir, tomato_dir)"
      ],
      "execution_count": 0,
      "outputs": [
        {
          "output_type": "stream",
          "text": [
            "./training_data ./training_data/carrot ./training_data/onion ./training_data/tomato\n"
          ],
          "name": "stdout"
        }
      ]
    },
    {
      "cell_type": "code",
      "metadata": {
        "id": "Czh3-Egm9L6Q",
        "colab_type": "code",
        "outputId": "05e05ec1-8dba-4ad4-be9f-f1df7282f547",
        "colab": {
          "base_uri": "https://localhost:8080/",
          "height": 34
        }
      },
      "source": [
        "# Make each directory if they don't exist\n",
        "try: \n",
        "  os.mkdir(carrot_dir_train)\n",
        "  os.mkdir(carrot_dir_val)\n",
        "  os.mkdir(onion_dir_train)\n",
        "  os.mkdir(onion_dir_val)\n",
        "  os.mkdir(tomato_dir_train)\n",
        "  os.mkdir(tomato_dir_val)\n",
        "except FileExistsError:\n",
        "  print(\"Directories already exist... moving on\")\n",
        "except:\n",
        "  print(\"Something else went wrong...\")"
      ],
      "execution_count": 0,
      "outputs": [
        {
          "output_type": "stream",
          "text": [
            "Directories already exist... moving on\n"
          ],
          "name": "stdout"
        }
      ]
    },
    {
      "cell_type": "code",
      "metadata": {
        "id": "fLpp6B1S_Kev",
        "colab_type": "code",
        "outputId": "787c9290-2cc5-45d3-cd62-3b0155942c60",
        "colab": {
          "base_uri": "https://localhost:8080/",
          "height": 54
        }
      },
      "source": [
        "# Randomly shuffle files\n",
        "import random \n",
        "\n",
        "carrot_files = os.listdir(carrot_dir)\n",
        "onion_files = os.listdir(onion_dir)\n",
        "tomato_files = os.listdir(tomato_dir)\n",
        "\n",
        "random.shuffle(carrot_files)\n",
        "random.shuffle(onion_files)\n",
        "random.shuffle(tomato_files)\n",
        "\n",
        "print(carrot_files, onion_files, tomato_files)"
      ],
      "execution_count": 0,
      "outputs": [
        {
          "output_type": "stream",
          "text": [
            "['2232745_web1_gtr-liv-garden02110418.jpg', 'images.jpg', '03116_01_romance.jpg', 'download.jpg', 'baby carrots 0225.jpg', 'ad2fb3c0-5e39-4e37-9189-b77942093687-119f71b.jpg', 'carrots-7-1200.jpg', 'ThinkstockPhotos-507126001_0.jpg', 'glazed-carrots-2.jpg', '1298630794-H.jpg', 'val', '1547589978038.jpg', 'carrots-table_popidar-ss.jpg', 'healthy-carrot-soup-image.jpg', 'Spend-With-Pennies-Roasted-Carrots-25-500x375.jpg', 'train', '0358A-scarlet-nantes-organic-carrot.jpg', 'prod000633.jpg', '5295-mans_hand_picking_up_a_bunch_of_carrots-732x549-thumbnail.jpg', 'unnamed.jpg', 'il-794xn-433776190-eylc-1566242511.jpg'] ['unnamed.jpg', '1452744949352.jpg', 'FQU_eUpdate_0925_onions.jpg', 'train', 'Onion-alternative_1200.jpg', 'Mixed_onions.jpg', '90021_sydavidson3_8f77de46-2be6-48bc-9ff9-a006839d390e.jpg', '02581_01_cabernet.jpg', 'Paradigm-Group.jpg', 'savannah-sweet-onion.jpg', 'how-to-cut-onion_hero.jpg', '81UeYuulNjL._SL1500_.jpg', 'types-of-onions-2-1200.jpg', 'onion_garlic_toxcicity.jpg', 'Onions.jpg', 'onions-on-white-rustic-wooden-background-royalty-free-image-626668362-1530636065.jpg', 'val', '_80896768_red-onion-think624.jpg', 'shutterstock_161066597-Onion-group.jpg', 'Planting-Onion-Sets-vs.-Onion-Seeds.jpg', 'a-guide-to-onions.jpg'] ['Beefsteak-Tomato-1.jpg', 'diet-nutrition_recipes_creamy-tomato-soup_2808x1750_000072615891-600x450.jpg', 'Baked-stuffed-tomatoes-final-740x1110-inside-the-rustic-kitchen.jpg', 'tomato-2384938_960_720.jpg', 'farm16-1.jpg', 'tomatoes-908705_1280_full_width.jpg', 'prod500763.jpg', 'NFF-health-benefits-of-Tomatoes-1.jpg', 'tomatoes-2669861_1920.jpg', 'istockphoto-466175630-612x612.jpg', 'shutterstock_1042840159-760x506.jpg', 'BONNIE_tomatoes_iStock-481349128-1800px.jpg', 'images.jpg', 'k_archive_325a93fc7579266ba9808ad0df9bb621da65ac1a.jpg', 'tomatoes-red-ucr-book.jpg', 'NFF-health-benefits-of-Tomatoes.jpg', 'train', '05380-pk-p1.jpg', 'unnamed.jpg', 'p04w46sp.jpg', 'val', 'download.jpg', 'qy4kMItIRZSzACxbQDFr_tomatoesinkitchenweb-1.jpg', 'f04da2db11221bc2547658.jpg', 'tomatoes-for-kitchen-garden-getty-images-photo-1200x553.jpg']\n"
          ],
          "name": "stdout"
        }
      ]
    },
    {
      "cell_type": "code",
      "metadata": {
        "id": "1bnEIF9__pel",
        "colab_type": "code",
        "outputId": "ca24428a-d330-4899-e421-a0c08174c897",
        "colab": {
          "base_uri": "https://localhost:8080/",
          "height": 119
        }
      },
      "source": [
        "# Split and copy files\n",
        "import shutil\n",
        "\n",
        "def split_and_copy_files(files, class_dir, train_dir, val_dir):\n",
        "  train_files = files[:len(files)//2]\n",
        "  val_files = files[len(files)//2:]\n",
        "\n",
        "  for file in train_files:\n",
        "    if os.path.isdir(os.path.join(class_dir, file)) is not True:\n",
        "      shutil.copy(os.path.join(class_dir, file), os.path.join(train_dir, file))\n",
        "\n",
        "  for file in val_files:\n",
        "    if os.path.isdir(os.path.join(class_dir, file)) is not True:\n",
        "      shutil.copy(os.path.join(class_dir, file), os.path.join(val_dir, file))\n",
        "\n",
        "split_and_copy_files(carrot_files, carrot_dir, carrot_dir_train, carrot_dir_val)\n",
        "split_and_copy_files(onion_files, onion_dir, onion_dir_train, onion_dir_val)\n",
        "split_and_copy_files(tomato_files, tomato_dir, tomato_dir_train, tomato_dir_val)"
      ],
      "execution_count": 0,
      "outputs": [
        {
          "output_type": "stream",
          "text": [
            "val\n",
            "train\n",
            "train\n",
            "val\n",
            "train\n",
            "val\n"
          ],
          "name": "stdout"
        }
      ]
    },
    {
      "cell_type": "code",
      "metadata": {
        "id": "XY__k4xxCM8F",
        "colab_type": "code",
        "colab": {}
      },
      "source": [
        ""
      ],
      "execution_count": 0,
      "outputs": []
    }
  ]
}