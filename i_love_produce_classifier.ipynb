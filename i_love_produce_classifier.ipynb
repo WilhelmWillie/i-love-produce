{
  "nbformat": 4,
  "nbformat_minor": 0,
  "metadata": {
    "colab": {
      "name": "i_love_produce_classifier.ipynb",
      "provenance": [],
      "authorship_tag": "ABX9TyNhRKrgwtlIG4j20hGztriT",
      "include_colab_link": true
    },
    "kernelspec": {
      "name": "python3",
      "display_name": "Python 3"
    },
    "accelerator": "GPU"
  },
  "cells": [
    {
      "cell_type": "markdown",
      "metadata": {
        "id": "view-in-github",
        "colab_type": "text"
      },
      "source": [
        "<a href=\"https://colab.research.google.com/github/WilhelmWillie/i-love-produce/blob/master/i_love_produce_classifier.ipynb\" target=\"_parent\"><img src=\"https://colab.research.google.com/assets/colab-badge.svg\" alt=\"Open In Colab\"/></a>"
      ]
    },
    {
      "cell_type": "code",
      "metadata": {
        "id": "7C4NW4Ry51kQ",
        "colab_type": "code",
        "colab": {}
      },
      "source": [
        "# Importing our good old TensorFlow libraries\n",
        "\n",
        "import tensorflow as tf\n",
        "\n",
        "import numpy as np\n",
        "import matplotlib.pyplot as plt\n",
        "\n",
        "from tensorflow.keras import layers\n",
        "\n",
        "import tensorflow_hub as hub\n",
        "\n",
        "import os "
      ],
      "execution_count": 0,
      "outputs": []
    },
    {
      "cell_type": "code",
      "metadata": {
        "id": "JKmkjJaq6gZK",
        "colab_type": "code",
        "colab": {}
      },
      "source": [
        "# Download training data\n",
        "\n",
        "TRAINING_DATA_ZIP = \"https://github.com/WilhelmWillie/i-love-produce/raw/master/training_data.zip\"\n",
        "zip_dir = tf.keras.utils.get_file('training_data.zip', origin=TRAINING_DATA_ZIP, extract=True)"
      ],
      "execution_count": 0,
      "outputs": []
    },
    {
      "cell_type": "code",
      "metadata": {
        "id": "7VBqTS9iF6p2",
        "colab_type": "code",
        "colab": {
          "base_uri": "https://localhost:8080/",
          "height": 34
        },
        "outputId": "05cf61d8-164d-4819-cd0e-4f3ab487a8ba"
      },
      "source": [
        "# Set up paths for training and validation directory\n",
        "base_dir = os.path.join(os.path.dirname(zip_dir), 'training_data')\n",
        "train_dir = os.path.join(base_dir, 'train')\n",
        "validation_dir = os.path.join(base_dir, 'validation')\n",
        "\n",
        "print(base_dir, train_dir, validation_dir)"
      ],
      "execution_count": 6,
      "outputs": [
        {
          "output_type": "stream",
          "text": [
            "/root/.keras/datasets/training_data /root/.keras/datasets/training_data/train /root/.keras/datasets/training_data/validation\n"
          ],
          "name": "stdout"
        }
      ]
    },
    {
      "cell_type": "code",
      "metadata": {
        "id": "i0T7NAxqGjAP",
        "colab_type": "code",
        "colab": {}
      },
      "source": [
        "# Set up batches \n",
        "IMAGE_RES = 299\n",
        "BATCH_SIZE = 5\n",
        "\n",
        "def format_image(image, label):\n",
        "  image = tf.image.resize(image, (IMAGE_RES, IMAGE_RES))/255.0\n",
        "  return image, label\n",
        "\n",
        "train_batches = training_set.shuffle(num_training_examples//4).map(format_image).batch(BATCH_SIZE).prefetch(1) \n",
        "\n",
        "validation_batches = validation_set.map(format_image).batch(BATCH_SIZE).prefetch(1)"
      ],
      "execution_count": 0,
      "outputs": []
    }
  ]
}